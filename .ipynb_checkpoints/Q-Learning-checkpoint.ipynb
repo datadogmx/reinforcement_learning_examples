{
 "cells": [
  {
   "cell_type": "code",
   "execution_count": 58,
   "metadata": {},
   "outputs": [
    {
     "data": {
      "text/plain": [
       "[0, -1, -1, -1, -1, -1, -1, -1, -1, -1, -1, -1, -1, -1, -1, 0]"
      ]
     },
     "execution_count": 58,
     "metadata": {},
     "output_type": "execute_result"
    }
   ],
   "source": [
    "grid =  [0,-1,-1,-1]  + \\\n",
    "        [-1,-1,-1,-1] + \\\n",
    "        [-1,-1,-1,-1] + \\\n",
    "        [-1,-1,-1,0]\n",
    "grid"
   ]
  },
  {
   "cell_type": "code",
   "execution_count": 22,
   "metadata": {
    "collapsed": true
   },
   "outputs": [],
   "source": [
    "import matplotlib.pyplot as plt\n",
    "import numpy as np"
   ]
  },
  {
   "cell_type": "code",
   "execution_count": 67,
   "metadata": {},
   "outputs": [],
   "source": [
    "def drawGrid(grid,title):\n",
    "    size_l = int(np.sqrt(len(grid)))\n",
    "    plt.figure(figsize=(4,4))\n",
    "    plt.ylim(0,size_l)\n",
    "    plt.xlim(0,size_l)\n",
    "    plt.xticks(range(size_l))\n",
    "    plt.yticks(range(size_l))\n",
    "    plt.rc('grid', linestyle=\"-\", color='black')\n",
    "    plt.title(title)\n",
    "    for x in range(size_l):\n",
    "        for y in range(size_l):\n",
    "            plt.text((x)+0.5,(size_l-1-y)+0.5,grid[x + size_l *y], ha=\"center\", va=\"center\")\n",
    "        \n",
    "    plt.grid(True)\n",
    "    plt.show()"
   ]
  },
  {
   "cell_type": "code",
   "execution_count": 68,
   "metadata": {},
   "outputs": [
    {
     "data": {
      "image/png": "[encoded data removed]",
      "text/plain": [
       "<matplotlib.figure.Figure at 0x7fb1f474c390>"
      ]
     },
     "metadata": {},
     "output_type": "display_data"
    }
   ],
   "source": [
    "drawGrid(grid,\"Reward en cada estado\")"
   ]
  },
  {
   "cell_type": "code",
   "execution_count": 72,
   "metadata": {
    "collapsed": true
   },
   "outputs": [],
   "source": [
    "num_states = 16\n",
    "states = list(range(16))\n",
    "states[0]=\"inicio\"\n",
    "states[15]=\"fin\""
   ]
  },
  {
   "cell_type": "code",
   "execution_count": 73,
   "metadata": {},
   "outputs": [
    {
     "data": {
      "image/png": "[encoded data removed]",
      "text/plain": [
       "<matplotlib.figure.Figure at 0x7fb1f4805518>"
      ]
     },
     "metadata": {},
     "output_type": "display_data"
    }
   ],
   "source": [
    "drawGrid(states,\"Estados\")"
   ]
  },
  {
   "cell_type": "code",
   "execution_count": 107,
   "metadata": {
    "collapsed": true
   },
   "outputs": [],
   "source": [
    "actions = [\"arriba\",\"abajo\",\"derecha\",\"izquierda\"]\n",
    "states = range(num_states)\n",
    "action_value = {state:{action:0 for action in actions} for state in states}"
   ]
  },
  {
   "cell_type": "code",
   "execution_count": 111,
   "metadata": {},
   "outputs": [],
   "source": [
    "def printPolicy(action_value):\n",
    "    simbols = list(range(num_states))\n",
    "    for x,value in enumerate(action_value):\n",
    "        simbols[x] = \"\"\n",
    "        if((x != 0) & (x!= 15) ):\n",
    "            max_p = max(policy[x].values())\n",
    "            if(policy[x][\"arriba\"] == max_p):\n",
    "                simbols[x]= simbols[x]+\"↑\"\n",
    "            if(policy[x][\"abajo\"] == max_p):\n",
    "                simbols[x]= simbols[x]+\"↓\"\n",
    "            if(policy[x][\"izquierda\"] == max_p):\n",
    "                simbols[x]= simbols[x]+\"←\"\n",
    "            if(policy[x][\"derecha\"] == max_p):\n",
    "                simbols[x]= simbols[x]+\"→\"\n",
    "    drawGrid(simbols,\"Action value 0\")\n",
    "    "
   ]
  },
  {
   "cell_type": "code",
   "execution_count": 112,
   "metadata": {},
   "outputs": [
    {
     "data": {
      "image/png": "[encoded data removed]",
      "text/plain": [
       "<matplotlib.figure.Figure at 0x7fb20caa9518>"
      ]
     },
     "metadata": {},
     "output_type": "display_data"
    }
   ],
   "source": [
    "printPolicy(action_value=action_value)"
   ]
  },
  {
   "cell_type": "code",
   "execution_count": 141,
   "metadata": {},
   "outputs": [
    {
     "ename": "SyntaxError",
     "evalue": "invalid syntax (<ipython-input-141-89415fdb8068>, line 10)",
     "output_type": "error",
     "traceback": [
      "\u001b[0;36m  File \u001b[0;32m\"<ipython-input-141-89415fdb8068>\"\u001b[0;36m, line \u001b[0;32m10\u001b[0m\n\u001b[0;31m    if()\u001b[0m\n\u001b[0m        ^\u001b[0m\n\u001b[0;31mSyntaxError\u001b[0m\u001b[0;31m:\u001b[0m invalid syntax\n"
     ]
    }
   ],
   "source": [
    "import random\n",
    "gamma = 0.9\n",
    "epsilon = 0.1\n",
    "def get_action_e_greedy(state):\n",
    "    \n",
    "    x = state%4\n",
    "    y = int(np.floor(state/4))\n",
    "    actions_ava = action_value[state].keys()\n",
    "    \n",
    "    if(x == 0):\n",
    "        actions_ava = actions_ava - set(\"izquierda\")\n",
    "    if(x == 3):\n",
    "        actions_ava = actions_ava - set(\"derecha\")\n",
    "    if(y == 0):\n",
    "        actions_ava = actions_ava - set(\"arriba\")\n",
    "    if(y == 3):\n",
    "        actions_ava = actions_ava - set(\"abajo\")\n",
    "        \n",
    "    action_greedy = max(actions_ava ,key = lambda valor: action_value[state][valor])\n",
    "    \n",
    "    if random.random() <= epsilon:\n",
    "        action_greedy list(action_value[state].keys() - set(action_greedy))[random.randint(0,len(actions_ava) - 2 )]\n",
    "    action_greedy,action_value[state][action_greedy]\n",
    "\n",
    "def play(state,action):\n",
    "    x = state%4\n",
    "    y = int(np.floor(state/4))\n",
    "    if(action == \"arriba\"):\n",
    "        if(y == 0):\n",
    "            \n",
    "def maxQas(state_apostrofe,state,action):\n",
    "    return max(({key:value - policy[0][\"arriba\"] for key,value in policy[1].items()}).values())"
   ]
  },
  {
   "cell_type": "code",
   "execution_count": 164,
   "metadata": {},
   "outputs": [
    {
     "data": {
      "text/plain": [
       "0"
      ]
     },
     "execution_count": 164,
     "metadata": {},
     "output_type": "execute_result"
    }
   ],
   "source": [
    "random.randint(0,3)"
   ]
  },
  {
   "cell_type": "code",
   "execution_count": 168,
   "metadata": {},
   "outputs": [
    {
     "data": {
      "text/plain": [
       "'derecha'"
      ]
     },
     "execution_count": 168,
     "metadata": {},
     "output_type": "execute_result"
    }
   ],
   "source": [
    "list(a)[0]"
   ]
  }
 ],
 "metadata": {
  "kernelspec": {
   "display_name": "Python 3",
   "language": "python",
   "name": "python3"
  },
  "language_info": {
   "codemirror_mode": {
    "name": "ipython",
    "version": 3
   },
   "file_extension": ".py",
   "mimetype": "text/x-python",
   "name": "python",
   "nbconvert_exporter": "python",
   "pygments_lexer": "ipython3",
   "version": "3.6.1"
  }
 },
 "nbformat": 4,
 "nbformat_minor": 2
}
