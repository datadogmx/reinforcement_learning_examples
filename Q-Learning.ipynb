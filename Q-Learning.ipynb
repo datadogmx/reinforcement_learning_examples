{
 "cells": [
  {
   "cell_type": "code",
   "execution_count": 58,
   "metadata": {},
   "outputs": [
    {
     "data": {
      "text/plain": [
       "[0, -1, -1, -1, -1, -1, -1, -1, -1, -1, -1, -1, -1, -1, -1, 0]"
      ]
     },
     "execution_count": 58,
     "metadata": {},
     "output_type": "execute_result"
    }
   ],
   "source": [
    "grid =  [0,-1,-1,-1]  + \\\n",
    "        [-1,-1,-1,-1] + \\\n",
    "        [-1,-1,-1,-1] + \\\n",
    "        [-1,-1,-1,0]\n",
    "grid"
   ]
  },
  {
   "cell_type": "code",
   "execution_count": 22,
   "metadata": {
    "collapsed": true
   },
   "outputs": [],
   "source": [
    "import matplotlib.pyplot as plt\n",
    "import numpy as np"
   ]
  },
  {
   "cell_type": "code",
   "execution_count": 67,
   "metadata": {},
   "outputs": [],
   "source": [
    "def drawGrid(grid,title):\n",
    "    size_l = int(np.sqrt(len(grid)))\n",
    "    plt.figure(figsize=(4,4))\n",
    "    plt.ylim(0,size_l)\n",
    "    plt.xlim(0,size_l)\n",
    "    plt.xticks(range(size_l))\n",
    "    plt.yticks(range(size_l))\n",
    "    plt.rc('grid', linestyle=\"-\", color='black')\n",
    "    plt.title(title)\n",
    "    for x in range(size_l):\n",
    "        for y in range(size_l):\n",
    "            plt.text((x)+0.5,(size_l-1-y)+0.5,grid[x + size_l *y], ha=\"center\", va=\"center\")\n",
    "        \n",
    "    plt.grid(True)\n",
    "    plt.show()"
   ]
  },
  {
   "cell_type": "code",
   "execution_count": 68,
   "metadata": {},
   "outputs": [
    {
     "data": {
      "image/png": "[encoded data removed]",
      "text/plain": [
       "<matplotlib.figure.Figure at 0x7fb1f474c390>"
      ]
     },
     "metadata": {},
     "output_type": "display_data"
    }
   ],
   "source": [
    "drawGrid(grid,\"Reward en cada estado\")"
   ]
  },
  {
   "cell_type": "code",
   "execution_count": 72,
   "metadata": {
    "collapsed": true
   },
   "outputs": [],
   "source": [
    "num_states = 16\n",
    "states = list(range(16))\n",
    "states[0]=\"inicio\"\n",
    "states[15]=\"fin\""
   ]
  },
  {
   "cell_type": "code",
   "execution_count": 73,
   "metadata": {},
   "outputs": [
    {
     "data": {
      "image/png": "[encoded data removed]",
      "text/plain": [
       "<matplotlib.figure.Figure at 0x7fb1f4805518>"
      ]
     },
     "metadata": {},
     "output_type": "display_data"
    }
   ],
   "source": [
    "drawGrid(states,\"Estados\")"
   ]
  },
  {
   "cell_type": "code",
   "execution_count": 504,
   "metadata": {
    "collapsed": true
   },
   "outputs": [],
   "source": [
    "actions = [\"arriba\",\"abajo\",\"derecha\",\"izquierda\"]\n",
    "states = range(num_states)\n",
    "action_value = {state:{action:0 for action in actions} for state in states}"
   ]
  },
  {
   "cell_type": "code",
   "execution_count": 505,
   "metadata": {},
   "outputs": [],
   "source": [
    "def printPolicy(action_value):\n",
    "    simbols = list(range(num_states))\n",
    "    for x,value in enumerate(action_value):\n",
    "        simbols[x] = \"\"\n",
    "        if((x != 0) & (x!= 15) ):\n",
    "            max_p = max(action_value[x].values())\n",
    "            if(action_value[x][\"arriba\"] == max_p):\n",
    "                simbols[x]= simbols[x]+\"↑\"\n",
    "            if(action_value[x][\"abajo\"] == max_p):\n",
    "                simbols[x]= simbols[x]+\"↓\"\n",
    "            if(action_value[x][\"izquierda\"] == max_p):\n",
    "                simbols[x]= simbols[x]+\"←\"\n",
    "            if(action_value[x][\"derecha\"] == max_p):\n",
    "                simbols[x]= simbols[x]+\"→\"\n",
    "    drawGrid(simbols,\"Action value 0\")\n",
    "    "
   ]
  },
  {
   "cell_type": "code",
   "execution_count": 506,
   "metadata": {},
   "outputs": [
    {
     "data": {
      "image/png": "[encoded data removed]",
      "text/plain": [
       "<matplotlib.figure.Figure at 0x7fb1f4e1bb38>"
      ]
     },
     "metadata": {},
     "output_type": "display_data"
    }
   ],
   "source": [
    "printPolicy(action_value=action_value)"
   ]
  },
  {
   "cell_type": "code",
   "execution_count": 507,
   "metadata": {},
   "outputs": [],
   "source": [
    "import random\n",
    "gamma = 0.1\n",
    "beta=0.7\n",
    "epsilon = 0.1\n",
    "def get_action_e_greedy(state):\n",
    "    \n",
    "    x = state%4\n",
    "    y = int(np.floor(state/4))\n",
    "    actions_ava = action_value[state].keys()\n",
    "    \n",
    "    if(x == 0):\n",
    "        actions_ava = actions_ava - set([\"izquierda\"])\n",
    "        action_value[state][\"izquierda\"] = action_value[state][\"izquierda\"] -1\n",
    "    if(x == 3):\n",
    "        actions_ava = actions_ava - set([\"derecha\"])\n",
    "        action_value[state][\"derecha\"] = action_value[state][\"derecha\"] -1\n",
    "    if(y == 0):\n",
    "        actions_ava = actions_ava - set([\"arriba\"])\n",
    "        action_value[state][\"arriba\"] = action_value[state][\"arriba\"] -1\n",
    "    if(y == 3):\n",
    "        actions_ava = actions_ava - set([\"abajo\"])\n",
    "        action_value[state][\"abajo\"] = action_value[state][\"abajo\"] -1\n",
    "        \n",
    "    action_greedy = max(actions_ava ,key = lambda valor: action_value[state][valor])\n",
    "    \n",
    "    if random.random() <= epsilon:\n",
    "        action_greedy = list(actions_ava - set(action_greedy))[random.randint(0,len(actions_ava) - 2 )]\n",
    "    return action_greedy,action_value[state][action_greedy]\n",
    "def getState(state,action):\n",
    "    \n",
    "    if(action == \"arriba\"):\n",
    "        state = state - 4\n",
    "    if(action == \"abajo\"):\n",
    "        state = state + 4\n",
    "    \n",
    "    if(action == \"izquierda\"):\n",
    "        state = state - 1\n",
    "    if(action == \"derecha\"):\n",
    "        state = state + 1\n",
    "    return state    \n",
    "            \n",
    "def maxQas(state_apostrofe,state,action):\n",
    "    return max([value - action_value[state][\"arriba\"] for value in action_value[state_apostrofe].values()])"
   ]
  },
  {
   "cell_type": "code",
   "execution_count": 514,
   "metadata": {},
   "outputs": [],
   "source": [
    "state = 0\n",
    "for i in range(10000):\n",
    "    action,value = get_action_e_greedy(state)\n",
    "    new_state = getState(state,action)\n",
    "    residuo = maxQas(new_state,state,action)\n",
    "    reward = grid[new_state]\n",
    "    new_q = action_value[state][action] + beta*(reward+gamma*(residuo))\n",
    "    action_value[state][action] = new_q\n",
    "    state = new_state\n",
    "    "
   ]
  },
  {
   "cell_type": "code",
   "execution_count": 515,
   "metadata": {},
   "outputs": [
    {
     "data": {
      "image/png": "[encoded data removed]",
      "text/plain": [
       "<matplotlib.figure.Figure at 0x7fb1f7dafba8>"
      ]
     },
     "metadata": {},
     "output_type": "display_data"
    }
   ],
   "source": [
    "printPolicy(action_value=action_value)"
   ]
  },
  {
   "cell_type": "code",
   "execution_count": 516,
   "metadata": {},
   "outputs": [
    {
     "data": {
      "text/plain": [
       "{0: {'abajo': -1.5784632122227893,\n",
       "  'arriba': -10117,\n",
       "  'derecha': inf,\n",
       "  'izquierda': -10117},\n",
       " 1: {'abajo': nan, 'arriba': -11266, 'derecha': inf, 'izquierda': inf},\n",
       " 2: {'abajo': nan, 'arriba': -4172, 'derecha': inf, 'izquierda': inf},\n",
       " 3: {'abajo': -1.0499999999999998,\n",
       "  'arriba': -3419,\n",
       "  'derecha': -3419,\n",
       "  'izquierda': inf},\n",
       " 4: {'abajo': -0.749,\n",
       "  'arriba': 13700581586.385859,\n",
       "  'derecha': -1.44557,\n",
       "  'izquierda': -11},\n",
       " 5: {'abajo': -8.094411653153855e+258,\n",
       "  'arriba': nan,\n",
       "  'derecha': nan,\n",
       "  'izquierda': -1.933832915084194},\n",
       " 6: {'abajo': nan,\n",
       "  'arriba': nan,\n",
       "  'derecha': nan,\n",
       "  'izquierda': 2.8137701968582643e+70},\n",
       " 7: {'abajo': nan, 'arriba': nan, 'derecha': -13, 'izquierda': nan},\n",
       " 8: {'abajo': -1.4066199,\n",
       "  'arriba': -1.2034021992686779,\n",
       "  'derecha': -1.3997598999999998,\n",
       "  'izquierda': -7},\n",
       " 9: {'abajo': -1.953,\n",
       "  'arriba': nan,\n",
       "  'derecha': -2.1344792584466536,\n",
       "  'izquierda': -2.0086199},\n",
       " 10: {'abajo': -2.525741869904399,\n",
       "  'arriba': nan,\n",
       "  'derecha': -2.619522938011154,\n",
       "  'izquierda': inf},\n",
       " 11: {'abajo': -2.5180227759538063,\n",
       "  'arriba': -2.10476084,\n",
       "  'derecha': -22,\n",
       "  'izquierda': nan},\n",
       " 12: {'abajo': -5, 'arriba': -2.051, 'derecha': -1.4, 'izquierda': -5},\n",
       " 13: {'abajo': -9,\n",
       "  'arriba': 1.1373973164685377e+305,\n",
       "  'derecha': -2.077888997562948,\n",
       "  'izquierda': -1.995156807},\n",
       " 14: {'abajo': -23,\n",
       "  'arriba': -2.7787379204900002,\n",
       "  'derecha': -1.9188354593238268,\n",
       "  'izquierda': -2.453547388143754},\n",
       " 15: {'abajo': -29,\n",
       "  'arriba': -6.727322841422314,\n",
       "  'derecha': -29,\n",
       "  'izquierda': -7.349766351313231}}"
      ]
     },
     "execution_count": 516,
     "metadata": {},
     "output_type": "execute_result"
    }
   ],
   "source": [
    "action_value"
   ]
  },
  {
   "cell_type": "code",
   "execution_count": 316,
   "metadata": {},
   "outputs": [
    {
     "data": {
      "text/plain": [
       "16"
      ]
     },
     "execution_count": 316,
     "metadata": {},
     "output_type": "execute_result"
    }
   ],
   "source": [
    "new_state"
   ]
  }
 ],
 "metadata": {
  "kernelspec": {
   "display_name": "Python 3",
   "language": "python",
   "name": "python3"
  },
  "language_info": {
   "codemirror_mode": {
    "name": "ipython",
    "version": 3
   },
   "file_extension": ".py",
   "mimetype": "text/x-python",
   "name": "python",
   "nbconvert_exporter": "python",
   "pygments_lexer": "ipython3",
   "version": "3.6.1"
  }
 },
 "nbformat": 4,
 "nbformat_minor": 2
}
