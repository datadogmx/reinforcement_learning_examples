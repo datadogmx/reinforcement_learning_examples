{
 "cells": [
  {
   "cell_type": "code",
   "execution_count": 343,
   "metadata": {},
   "outputs": [],
   "source": [
    "def drop_module(dir):\n",
    "    import sys\n",
    "    \"\"\"Drop module from sys modules\"\"\"\n",
    "    if dir in sys.modules:\n",
    "        del sys.modules[dir]\n",
    "        print(\"Libreria actualizada\")"
   ]
  },
  {
   "cell_type": "markdown",
   "metadata": {},
   "source": [
    "# Librerias"
   ]
  },
  {
   "cell_type": "code",
   "execution_count": 1,
   "metadata": {},
   "outputs": [],
   "source": [
    "import matplotlib.pyplot as plt\n",
    "import numpy as np\n",
    "from utils.plot_grid import PlotGrid\n",
    "import random\n",
    "import copy"
   ]
  },
  {
   "cell_type": "markdown",
   "metadata": {},
   "source": [
    "# Inicializando variables\n",
    "\n",
    "Matriz de recompensa"
   ]
  },
  {
   "cell_type": "code",
   "execution_count": 519,
   "metadata": {},
   "outputs": [],
   "source": [
    "reward =  [-10,-1,-1,-1]  + \\\n",
    "        [-1,-1,-1,-1] + \\\n",
    "        [-5,-1,-1,-1] + \\\n",
    "        [-1,-1,-1,1]\n",
    "        \n",
    "reward\n",
    "dimension_x = 4\n",
    "dimension_y = 4\n",
    "no_action_value = -10 "
   ]
  },
  {
   "cell_type": "code",
   "execution_count": 520,
   "metadata": {},
   "outputs": [],
   "source": [
    "ploter = PlotGrid(dimension_x,dimension_y)"
   ]
  },
  {
   "cell_type": "code",
   "execution_count": 4,
   "metadata": {},
   "outputs": [
    {
     "data": {
      "image/png": "[encoded data removed]",
      "text/plain": [
       "<Figure size 288x288 with 1 Axes>"
      ]
     },
     "metadata": {
      "needs_background": "light"
     },
     "output_type": "display_data"
    }
   ],
   "source": [
    "num_states = 16\n",
    "states = list(range(16))\n",
    "states[0]=\"derrota\"\n",
    "states[15]=\"meta\"\n",
    "ploter.drawGrid(states,\"Estados\")"
   ]
  },
  {
   "cell_type": "code",
   "execution_count": 521,
   "metadata": {},
   "outputs": [
    {
     "data": {
      "image/png": "[encoded data removed]",
      "text/plain": [
       "<Figure size 288x288 with 1 Axes>"
      ]
     },
     "metadata": {
      "needs_background": "light"
     },
     "output_type": "display_data"
    }
   ],
   "source": [
    "\n",
    "ploter.drawGrid(reward,\"Recompensa en cada estado\")"
   ]
  },
  {
   "cell_type": "code",
   "execution_count": 31,
   "metadata": {},
   "outputs": [],
   "source": [
    "def get_state_from_x_y(x,y):\n",
    "    return (y-1)*dimension_x + x -1\n",
    "def get_reward(x,y):\n",
    "    return  reward[get_state_from_x_y(x,y)]"
   ]
  },
  {
   "cell_type": "code",
   "execution_count": 46,
   "metadata": {},
   "outputs": [],
   "source": [
    "def get_state_from_number(number):\n",
    "    return (number%4) +1,int(np.floor(number/dimension_x)) +1"
   ]
  },
  {
   "cell_type": "code",
   "execution_count": 33,
   "metadata": {},
   "outputs": [],
   "source": [
    "def get_all_posibilities_movents(x,y):\n",
    "    # actions up, down, left, right\n",
    "    actions = [1,1,1,1]\n",
    "    if(x==1):\n",
    "        actions[2] = 0\n",
    "    if(x==dimension_x):\n",
    "        actions[3] = 0\n",
    "    if(y==1):\n",
    "        actions[0] = 0\n",
    "    if(y==dimension_y):\n",
    "        actions[1] = 0\n",
    "    return actions"
   ]
  },
  {
   "cell_type": "code",
   "execution_count": 522,
   "metadata": {},
   "outputs": [],
   "source": [
    "def generate_all_samples():\n",
    "    x_array = []\n",
    "    y_array = []\n",
    "    y_states = []\n",
    "    terminal_states = []\n",
    "    for x in range(1, dimension_x+1):\n",
    "        for y in range(1, dimension_y+1):\n",
    "            x_array.append([x, y])\n",
    "            terminal_states.append(False)\n",
    "            movements = get_all_posibilities_movents(x,y)\n",
    "            y_s = []\n",
    "            if(movements[0] == 1):\n",
    "                y_s.append(get_reward(x,y-1))\n",
    "            else:\n",
    "                y_s.append(no_action_value)\n",
    "            if(movements[1] == 1):\n",
    "                y_s.append(get_reward(x,y+1))\n",
    "            else:\n",
    "                y_s.append(no_action_value)\n",
    "            if(movements[2] == 1):\n",
    "                y_s.append(get_reward(x - 1,y))\n",
    "            else:\n",
    "                y_s.append(no_action_value)\n",
    "            if(movements[3] == 1):\n",
    "                y_s.append(get_reward(x+1,y))\n",
    "            else:\n",
    "                y_s.append(no_action_value)\n",
    "            y_array.append(y_s)\n",
    "            y_states.append([[x, y-1],[x, y+1],[x-1, y],[x+1, y]])\n",
    "    terminal_states[-1] = True\n",
    "    return x_array, y_array, y_states, terminal_states"
   ]
  },
  {
   "cell_type": "code",
   "execution_count": 523,
   "metadata": {},
   "outputs": [],
   "source": [
    "X, Y, YS, TS = generate_all_samples()\n",
    "X = np.array(X).astype(np.float)\n",
    "Y = np.array(Y).astype(np.float)\n",
    "YS = np.array(YS).astype(np.float)\n",
    "TS = np.array(TS).astype(np.float)\n",
    "Y[TS==True] = 0"
   ]
  },
  {
   "cell_type": "code",
   "execution_count": 524,
   "metadata": {},
   "outputs": [],
   "source": [
    "from tensorflow.keras.models import load_model\n",
    "from itertools import product\n",
    "from sklearn.model_selection import KFold\n",
    "from tensorflow.keras.callbacks import ModelCheckpoint, EarlyStopping, ReduceLROnPlateau\n",
    "from tensorflow.keras import Sequential\n",
    "from tensorflow.keras.layers import LSTM, Dense, Dropout, Activation\n",
    "import time\n",
    "from tensorflow import keras\n",
    "import pandas as pd\n",
    "import numpy as np"
   ]
  },
  {
   "cell_type": "code",
   "execution_count": 525,
   "metadata": {},
   "outputs": [],
   "source": [
    "model = Sequential()\n",
    "model.add(Dense(56,input_shape=(2,)))\n",
    "model.add(Dense(128))\n",
    "model.add(Dense(256))\n",
    "model.add(Dense(4, activation=None))\n",
    "model.compile(loss = 'mse', optimizer = 'rmsprop', metrics=['mape'] )"
   ]
  },
  {
   "cell_type": "code",
   "execution_count": 526,
   "metadata": {},
   "outputs": [
    {
     "name": "stdout",
     "output_type": "stream",
     "text": [
      "Libreria actualizada\n"
     ]
    }
   ],
   "source": [
    "drop_module(\"utils.dqn_wrapper\")\n",
    "from utils.dqn_wrapper import DQNWrapper"
   ]
  },
  {
   "cell_type": "code",
   "execution_count": 527,
   "metadata": {},
   "outputs": [],
   "source": [
    "dqn = DQNWrapper(model, 0.99)"
   ]
  },
  {
   "cell_type": "code",
   "execution_count": 528,
   "metadata": {},
   "outputs": [],
   "source": [
    "y, ys = dqn.train(X,Y,YS, TS, num_qt_update=50, num_batch=1, epochs=3000)"
   ]
  },
  {
   "cell_type": "code",
   "execution_count": 529,
   "metadata": {},
   "outputs": [
    {
     "data": {
      "text/plain": [
       "array([[-10.,  -1., -10.,  -1.],\n",
       "       [-10.,  -5., -10.,  -1.],\n",
       "       [ -1.,  -1., -10.,  -1.],\n",
       "       [ -5., -10., -10.,  -1.],\n",
       "       [-10.,  -1., -10.,  -1.],\n",
       "       [ -1.,  -1.,  -1.,  -1.],\n",
       "       [ -1.,  -1.,  -5.,  -1.],\n",
       "       [ -1., -10.,  -1.,  -1.],\n",
       "       [-10.,  -1.,  -1.,  -1.],\n",
       "       [ -1.,  -1.,  -1.,  -1.],\n",
       "       [ -1.,  -1.,  -1.,  -1.],\n",
       "       [ -1., -10.,  -1.,   1.],\n",
       "       [-10.,  -1.,  -1., -10.],\n",
       "       [ -1.,  -1.,  -1., -10.],\n",
       "       [ -1.,   1.,  -1., -10.],\n",
       "       [  0.,   0.,   0.,   0.]])"
      ]
     },
     "execution_count": 529,
     "metadata": {},
     "output_type": "execute_result"
    }
   ],
   "source": [
    "y"
   ]
  },
  {
   "cell_type": "code",
   "execution_count": 530,
   "metadata": {},
   "outputs": [
    {
     "data": {
      "text/plain": [
       "array([[-15.63245201,  -5.09197712, -14.79268503,  -5.40270948],\n",
       "       [-15.21231937,  -7.97163367, -13.6723423 ,  -5.51161098],\n",
       "       [ -5.09197712,  -2.85128987, -12.55199885,  -4.39126587],\n",
       "       [ -7.97163367, -10.73094672, -11.43165624,  -3.27092481],\n",
       "       [-13.88117528,  -5.51161098, -15.21231937,  -3.65143156],\n",
       "       [ -5.40270948,  -4.39126587,  -5.09197712,  -4.17296529],\n",
       "       [ -5.51161098,  -3.27092481,  -7.97163367,  -4.69450068],\n",
       "       [ -4.39126587, -10.65105319,  -2.85128987,  -2.44417286],\n",
       "       [-12.12989521,  -4.17296529,  -5.40270948,  -1.90015215],\n",
       "       [ -3.65143156,  -4.69450068,  -5.51161098,  -2.42168844],\n",
       "       [ -4.17296529,  -2.44417286,  -4.39126587,  -2.19570959],\n",
       "       [ -4.69450068,  -8.53053999,  -3.27092481,   1.67633986],\n",
       "       [-10.37861755,  -2.42168844,  -3.65143156,  -9.14887261],\n",
       "       [ -1.90015215,  -2.19570959,  -4.17296529,  -9.3846224 ],\n",
       "       [ -2.42168844,   1.67633986,  -4.69450068,  -7.85375309],\n",
       "       [  0.        ,   0.        ,   0.        ,   0.        ]])"
      ]
     },
     "execution_count": 530,
     "metadata": {},
     "output_type": "execute_result"
    }
   ],
   "source": [
    "ys"
   ]
  },
  {
   "cell_type": "code",
   "execution_count": 531,
   "metadata": {},
   "outputs": [],
   "source": [
    "def get_action_value(q_model) :\n",
    "    return { ind: { \"arriba\":el[0],\"abajo\":el[1],\"izquierda\":el[2],\"derecha\":el[3] }for ind, el in enumerate(q_model.predict(np.array([get_state_from_number(x) for x in range(num_states)])))}\n",
    "def get_state_value(q_model):\n",
    "    return list(map(lambda el:\"%.2f\" % el, np.max(q_model.predict(np.array([get_state_from_number(x) for x in range(num_states)])), axis=1)))"
   ]
  },
  {
   "cell_type": "code",
   "execution_count": 532,
   "metadata": {},
   "outputs": [
    {
     "data": {
      "image/png": "[encoded data removed]",
      "text/plain": [
       "<Figure size 288x288 with 1 Axes>"
      ]
     },
     "metadata": {
      "needs_background": "light"
     },
     "output_type": "display_data"
    }
   ],
   "source": [
    "ploter.printActionValue( get_action_value(dqn.q_model),\n",
    "                        \"dqn\")"
   ]
  },
  {
   "cell_type": "code",
   "execution_count": 533,
   "metadata": {},
   "outputs": [
    {
     "data": {
      "image/png": "[encoded data removed]",
      "text/plain": [
       "<Figure size 288x288 with 1 Axes>"
      ]
     },
     "metadata": {
      "needs_background": "light"
     },
     "output_type": "display_data"
    }
   ],
   "source": [
    "ploter.drawGrid(\n",
    "                    get_state_value(dqn.q_model),\n",
    "                    \"Valor de la acción en {}\".format(\"dqn\")\n",
    "            )"
   ]
  },
  {
   "cell_type": "code",
   "execution_count": 512,
   "metadata": {},
   "outputs": [
    {
     "data": {
      "text/plain": [
       "array([[-2.728674  , -2.6895843 , -0.08175492, -4.698032  ]],\n",
       "      dtype=float32)"
      ]
     },
     "execution_count": 512,
     "metadata": {},
     "output_type": "execute_result"
    }
   ],
   "source": [
    "dqn.q_model.predict([[4,3]])"
   ]
  },
  {
   "cell_type": "code",
   "execution_count": 488,
   "metadata": {},
   "outputs": [
    {
     "data": {
      "text/plain": [
       "array([4., 3.])"
      ]
     },
     "execution_count": 488,
     "metadata": {},
     "output_type": "execute_result"
    }
   ],
   "source": [
    "X[14]"
   ]
  },
  {
   "cell_type": "code",
   "execution_count": 513,
   "metadata": {},
   "outputs": [
    {
     "data": {
      "text/plain": [
       "array([ -1.,   1.,  -1., -15.])"
      ]
     },
     "execution_count": 513,
     "metadata": {},
     "output_type": "execute_result"
    }
   ],
   "source": [
    "Y[14]"
   ]
  },
  {
   "cell_type": "code",
   "execution_count": 514,
   "metadata": {},
   "outputs": [
    {
     "data": {
      "text/plain": [
       "array([ -1.98766881,   2.56785941,  -4.55682516, -11.52345037])"
      ]
     },
     "execution_count": 514,
     "metadata": {},
     "output_type": "execute_result"
    }
   ],
   "source": [
    "ys[14]"
   ]
  },
  {
   "cell_type": "code",
   "execution_count": 518,
   "metadata": {},
   "outputs": [
    {
     "data": {
      "text/plain": [
       "array([[ 1.2519698, -4.0672164,  1.6727118, -3.2390304]], dtype=float32)"
      ]
     },
     "execution_count": 518,
     "metadata": {},
     "output_type": "execute_result"
    }
   ],
   "source": [
    "dqn.q_model.predict([[4,4]])"
   ]
  },
  {
   "cell_type": "code",
   "execution_count": 487,
   "metadata": {},
   "outputs": [
    {
     "data": {
      "text/plain": [
       "array([[4., 2.],\n",
       "       [4., 4.],\n",
       "       [3., 3.],\n",
       "       [5., 3.]])"
      ]
     },
     "execution_count": 487,
     "metadata": {},
     "output_type": "execute_result"
    }
   ],
   "source": [
    "YS[14]"
   ]
  },
  {
   "cell_type": "code",
   "execution_count": 361,
   "metadata": {},
   "outputs": [
    {
     "data": {
      "text/plain": [
       "array([-2.9638293, -2.9381154, -2.2436824, -1.5492485, -2.9094288,\n",
       "       -5.3533826, -5.174493 , -3.117013 , -2.8550274, -5.2989817,\n",
       "       -5.408047 , -2.6585083, -2.8006253, -3.7852418, -2.6133049,\n",
       "       -1.441366 ], dtype=float32)"
      ]
     },
     "execution_count": 361,
     "metadata": {},
     "output_type": "execute_result"
    }
   ],
   "source": [
    "np.max(dqn.q_model.predict(np.array([get_state_from_number(x) for x in range(num_states)])), axis=1)"
   ]
  },
  {
   "cell_type": "code",
   "execution_count": 362,
   "metadata": {},
   "outputs": [
    {
     "data": {
      "image/png": "[encoded data removed]",
      "text/plain": [
       "<Figure size 288x288 with 1 Axes>"
      ]
     },
     "metadata": {
      "needs_background": "light"
     },
     "output_type": "display_data"
    }
   ],
   "source": []
  },
  {
   "cell_type": "code",
   "execution_count": 314,
   "metadata": {},
   "outputs": [
    {
     "data": {
      "text/plain": [
       "array([[-15.097966 ,  -1.0606675, -15.097133 ,  -1.0236334]],\n",
       "      dtype=float32)"
      ]
     },
     "metadata": {},
     "output_type": "display_data"
    },
    {
     "data": {
      "text/plain": [
       "array([[-15.106459 ,  -1.0583744, -15.1047735,  -1.016776 ]],\n",
       "      dtype=float32)"
      ]
     },
     "execution_count": 314,
     "metadata": {},
     "output_type": "execute_result"
    }
   ],
   "source": [
    "model.fit(x=X[:1], y = Y[:1], epochs=200, verbose=0)\n",
    "model2 = keras.models.clone_model(model)\n",
    "model2.set_weights(model.get_weights())\n",
    "model.fit(x=X[:1], y = Y[:1], epochs=200, verbose=0)\n",
    "display(model2.predict(X[:1]))\n",
    "model.predict(X[:1])"
   ]
  },
  {
   "cell_type": "code",
   "execution_count": 322,
   "metadata": {},
   "outputs": [
    {
     "data": {
      "text/plain": [
       "array([[ -9.671079  ,  -0.5923234 ,  -9.848138  ,  -0.62364554],\n",
       "       [-20.541843  ,  -1.5244255 , -20.361408  ,  -1.409906  ],\n",
       "       [ -9.729118  ,  -0.72390926,  -9.572611  ,  -0.6119662 ],\n",
       "       [-20.4838    ,  -1.3928399 , -20.636932  ,  -1.4215856 ]],\n",
       "      dtype=float32)"
      ]
     },
     "execution_count": 322,
     "metadata": {},
     "output_type": "execute_result"
    }
   ],
   "source": [
    "model.predict(YS[0])"
   ]
  },
  {
   "cell_type": "code",
   "execution_count": 337,
   "metadata": {},
   "outputs": [
    {
     "data": {
      "text/plain": [
       "array([[-15.05923234,  -1.1409906 , -15.06119662,  -1.139284  ],\n",
       "       [-10.1016776 ,  -5.1803036 , -15.10050966,  -1.18147153],\n",
       "       [ -1.1409906 ,  -1.21961665, -15.13982265,  -1.22078457],\n",
       "       [ -5.1803036 , -15.2589297 , -15.17913568,  -1.26009759],\n",
       "       [-15.09267888,  -1.18147153, -10.1016776 ,  -1.17273055],\n",
       "       [ -1.139284  ,  -1.22078457,  -1.1409906 ,  -1.21933568],\n",
       "       [ -1.18147153,  -1.26009759,  -5.1803036 ,  -1.26126552],\n",
       "       [ -1.22078457, -15.29941067,  -1.21961665,  -1.30057856],\n",
       "       [-15.12612544,  -1.21933568,  -1.139284  ,  -1.2061771 ],\n",
       "       [ -1.17273055,  -1.26126552,  -1.18147153,  -1.25278214],\n",
       "       [ -1.21933568,  -1.30057856,  -1.22078457,  -1.29938731],\n",
       "       [ -1.26126552, -15.33989164,  -1.26009759,   0.65894055],\n",
       "       [-15.15957196,  -1.25278214,  -1.17273055, -15.23962362],\n",
       "       [ -1.2061771 ,  -1.29938731,  -1.21933568, -15.28622875],\n",
       "       [ -1.25278214,   0.65894055,  -1.26126552, -15.33283386],\n",
       "       [ -1.29938731, -15.38037249,  -1.30057856, -15.37943897]])"
      ]
     },
     "execution_count": 337,
     "metadata": {},
     "output_type": "execute_result"
    }
   ],
   "source": [
    "Y+(0.1*np.array([np.max(model.predict(ys),axis=1) for ys in YS]))"
   ]
  },
  {
   "cell_type": "code",
   "execution_count": 315,
   "metadata": {},
   "outputs": [
    {
     "data": {
      "text/plain": [
       "array([[-15.106459 ,  -1.0583744, -15.1047735,  -1.016776 ]],\n",
       "      dtype=float32)"
      ]
     },
     "metadata": {},
     "output_type": "display_data"
    },
    {
     "data": {
      "text/plain": [
       "array([[-15.106459 ,  -1.0583744, -15.1047735,  -1.016776 ]],\n",
       "      dtype=float32)"
      ]
     },
     "execution_count": 315,
     "metadata": {},
     "output_type": "execute_result"
    }
   ],
   "source": [
    "model2.set_weights(model.get_weights())\n",
    "display(model2.predict(X[:1]))\n",
    "model.predict(X[:1])"
   ]
  },
  {
   "cell_type": "code",
   "execution_count": 98,
   "metadata": {},
   "outputs": [
    {
     "data": {
      "text/plain": [
       "<bound method Model.fit of <tensorflow.python.keras.engine.sequential.Sequential object at 0x7fade53b9668>>"
      ]
     },
     "execution_count": 98,
     "metadata": {},
     "output_type": "execute_result"
    }
   ],
   "source": [
    "model.fit()"
   ]
  },
  {
   "cell_type": "markdown",
   "metadata": {},
   "source": [
    "# Inicializando la red neuronal"
   ]
  },
  {
   "cell_type": "markdown",
   "metadata": {},
   "source": [
    "# Inicializando la función accion valor\n",
    "\n",
    "Las posibles acciones son:\n",
    "\n",
    "- Arriba\n",
    "- Abajo\n",
    "- Derecha\n",
    "- Izquierda"
   ]
  },
  {
   "cell_type": "code",
   "execution_count": 6,
   "metadata": {},
   "outputs": [],
   "source": [
    "#Acciones disponibles\n",
    "actions = [\"arriba\",\"abajo\",\"derecha\",\"izquierda\"]\n",
    "#Tamano de los estados\n",
    "states = range(len(reward))\n",
    "#Por cada estado inicializando su valor en 0\n",
    "action_value = {state:{action:0 for action in actions} for state in states}"
   ]
  },
  {
   "cell_type": "code",
   "execution_count": 7,
   "metadata": {},
   "outputs": [
    {
     "data": {
      "image/png": "[encoded data removed]",
      "text/plain": [
       "<Figure size 288x288 with 1 Axes>"
      ]
     },
     "metadata": {
      "needs_background": "light"
     },
     "output_type": "display_data"
    }
   ],
   "source": [
    "ploter.printActionValue(action_value=action_value)"
   ]
  },
  {
   "cell_type": "markdown",
   "metadata": {},
   "source": [
    "# Definiendo la función E-Greedy"
   ]
  },
  {
   "cell_type": "code",
   "execution_count": 8,
   "metadata": {},
   "outputs": [],
   "source": [
    "#Probabilidad de elegir una acción no greedy\n",
    "epsilon = 0.1 \n",
    "#Definiendo la funcion Greedy\n",
    "def get_action_e_greedy(state,dimension_x,dimension_y):\n",
    "    \n",
    "    x = state%4\n",
    "    y = int(np.floor(state/4))\n",
    "    actions_ava = action_value[state].keys()\n",
    "    \n",
    "    if(x == 0):\n",
    "        actions_ava = actions_ava - set([\"izquierda\"])\n",
    "        action_value[state][\"izquierda\"] = action_value[state][\"izquierda\"] -1\n",
    "    if(x == dimension_x -1 ):\n",
    "        actions_ava = actions_ava - set([\"derecha\"])\n",
    "        action_value[state][\"derecha\"] = action_value[state][\"derecha\"] -1\n",
    "    if(y == 0):\n",
    "        actions_ava = actions_ava - set([\"arriba\"])\n",
    "        action_value[state][\"arriba\"] = action_value[state][\"arriba\"] -1\n",
    "    if(y == dimension_y - 1):\n",
    "        actions_ava = actions_ava - set([\"abajo\"])\n",
    "        action_value[state][\"abajo\"] = action_value[state][\"abajo\"] -1\n",
    "        \n",
    "    action_greedy = max(actions_ava ,key = lambda valor: action_value[state][valor])\n",
    "    \n",
    "    if random.random() <= epsilon:\n",
    "        action_greedy = list(actions_ava - set(action_greedy))[random.randint(0,len(actions_ava) - 2 )]\n",
    "    return action_greedy,action_value[state][action_greedy]"
   ]
  },
  {
   "cell_type": "markdown",
   "metadata": {},
   "source": [
    "# Obtener el estado resultante de una acción"
   ]
  },
  {
   "cell_type": "code",
   "execution_count": 9,
   "metadata": {},
   "outputs": [],
   "source": [
    "import operator\n",
    "def getState(state,action,dimension_x,dimension_y):\n",
    "    \n",
    "    if(action == \"arriba\"):\n",
    "        state = state - dimension_x\n",
    "    if(action == \"abajo\"):\n",
    "        state = state + dimension_x\n",
    "    \n",
    "    if(action == \"izquierda\"):\n",
    "        state = state - 1\n",
    "    if(action == \"derecha\"):\n",
    "        state = state + 1\n",
    "    return state  "
   ]
  },
  {
   "cell_type": "code",
   "execution_count": 10,
   "metadata": {},
   "outputs": [],
   "source": [
    "gamma = 0.99\n",
    "alpha=0.1\n",
    "          \n",
    "def maxQas(state_apostrofe):\n",
    "    return max(action_value[state_apostrofe].values())"
   ]
  },
  {
   "cell_type": "code",
   "execution_count": 11,
   "metadata": {},
   "outputs": [],
   "source": [
    "counter = 0\n",
    "array_grids = []"
   ]
  },
  {
   "cell_type": "code",
   "execution_count": 12,
   "metadata": {},
   "outputs": [],
   "source": [
    "state = random.randint(a=0,b=len(reward) - 2)\n",
    "for i in range(2400):\n",
    "    state = random.randint(a=0,b=len(reward) - 2)\n",
    "    if(counter%400 == 0):\n",
    "        array_grids.append({\"action_value\":copy.deepcopy(action_value),\"counter\":counter})\n",
    "        \n",
    "    action,value = get_action_e_greedy(state,dimension_x,dimension_y)\n",
    "    new_state = getState(state,action,dimension_x,dimension_y)\n",
    "    maxq = maxQas(new_state)\n",
    "    reward_v = reward[new_state]\n",
    "    new_q = action_value[state][action] + alpha*(reward_v+(gamma*maxq) - action_value[state][action])\n",
    "    action_value[state][action] = new_q\n",
    "    state = new_state\n",
    "    counter+=1\n",
    "\n",
    "array_grids.append({\"action_value\":copy.deepcopy(action_value),\"counter\":counter})"
   ]
  },
  {
   "cell_type": "code",
   "execution_count": 13,
   "metadata": {
    "scrolled": false
   },
   "outputs": [
    {
     "data": {
      "image/png": "[encoded data removed]",
      "text/plain": [
       "<Figure size 288x288 with 1 Axes>"
      ]
     },
     "metadata": {
      "needs_background": "light"
     },
     "output_type": "display_data"
    },
    {
     "data": {
      "image/png": "[encoded data removed]",
      "text/plain": [
       "<Figure size 288x288 with 1 Axes>"
      ]
     },
     "metadata": {
      "needs_background": "light"
     },
     "output_type": "display_data"
    },
    {
     "data": {
      "image/png": "[encoded data removed]",
      "text/plain": [
       "<Figure size 288x288 with 1 Axes>"
      ]
     },
     "metadata": {
      "needs_background": "light"
     },
     "output_type": "display_data"
    },
    {
     "data": {
      "image/png": "[encoded data removed]",
      "text/plain": [
       "<Figure size 288x288 with 1 Axes>"
      ]
     },
     "metadata": {
      "needs_background": "light"
     },
     "output_type": "display_data"
    },
    {
     "data": {
      "image/png": "[encoded data removed]",
      "text/plain": [
       "<Figure size 288x288 with 1 Axes>"
      ]
     },
     "metadata": {
      "needs_background": "light"
     },
     "output_type": "display_data"
    },
    {
     "data": {
      "image/png": "[encoded data removed]",
      "text/plain": [
       "<Figure size 288x288 with 1 Axes>"
      ]
     },
     "metadata": {
      "needs_background": "light"
     },
     "output_type": "display_data"
    },
    {
     "data": {
      "image/png": "[encoded data removed]",
      "text/plain": [
       "<Figure size 288x288 with 1 Axes>"
      ]
     },
     "metadata": {
      "needs_background": "light"
     },
     "output_type": "display_data"
    }
   ],
   "source": [
    "for grid_s in array_grids:\n",
    "    ploter.printActionValue(grid_s[\"action_value\"],grid_s[\"counter\"])"
   ]
  },
  {
   "cell_type": "code",
   "execution_count": 14,
   "metadata": {
    "scrolled": false
   },
   "outputs": [
    {
     "data": {
      "image/png": "[encoded data removed]",
      "text/plain": [
       "<Figure size 288x288 with 1 Axes>"
      ]
     },
     "metadata": {
      "needs_background": "light"
     },
     "output_type": "display_data"
    },
    {
     "data": {
      "image/png": "[encoded data removed]",
      "text/plain": [
       "<Figure size 288x288 with 1 Axes>"
      ]
     },
     "metadata": {
      "needs_background": "light"
     },
     "output_type": "display_data"
    },
    {
     "data": {
      "image/png": "[encoded data removed]",
      "text/plain": [
       "<Figure size 288x288 with 1 Axes>"
      ]
     },
     "metadata": {
      "needs_background": "light"
     },
     "output_type": "display_data"
    },
    {
     "data": {
      "image/png": "[encoded data removed]",
      "text/plain": [
       "<Figure size 288x288 with 1 Axes>"
      ]
     },
     "metadata": {
      "needs_background": "light"
     },
     "output_type": "display_data"
    },
    {
     "data": {
      "image/png": "[encoded data removed]",
      "text/plain": [
       "<Figure size 288x288 with 1 Axes>"
      ]
     },
     "metadata": {
      "needs_background": "light"
     },
     "output_type": "display_data"
    },
    {
     "data": {
      "image/png": "[encoded data removed]",
      "text/plain": [
       "<Figure size 288x288 with 1 Axes>"
      ]
     },
     "metadata": {
      "needs_background": "light"
     },
     "output_type": "display_data"
    },
    {
     "data": {
      "image/png": "[encoded data removed]",
      "text/plain": [
       "<Figure size 288x288 with 1 Axes>"
      ]
     },
     "metadata": {
      "needs_background": "light"
     },
     "output_type": "display_data"
    }
   ],
   "source": [
    "for grid_s in array_grids:\n",
    "    ploter.drawGrid(\n",
    "                    list(map(lambda el:\"%.2f\" % max(el[1].values()), grid_s[\"action_value\"].items())),\n",
    "                    \"Valor de la acción en {}\".format(grid_s[\"counter\"])\n",
    "            )"
   ]
  },
  {
   "cell_type": "code",
   "execution_count": 417,
   "metadata": {},
   "outputs": [
    {
     "data": {
      "image/png": "[encoded data removed]",
      "text/plain": [
       "<Figure size 288x288 with 1 Axes>"
      ]
     },
     "metadata": {
      "needs_background": "light"
     },
     "output_type": "display_data"
    }
   ],
   "source": [
    "ploter.drawGrid(\n",
    "                    list(map(lambda el:\"%.2f\" % el, np.max(dqn.q_model.predict(np.array([get_state_from_number(x) for x in range(num_states)])), axis=1))),\n",
    "                    \"Valor de la acción en {}\".format(\"dqn\")\n",
    "            )"
   ]
  }
 ],
 "metadata": {
  "kernelspec": {
   "display_name": "Python 3",
   "language": "python",
   "name": "python3"
  },
  "language_info": {
   "codemirror_mode": {
    "name": "ipython",
    "version": 3
   },
   "file_extension": ".py",
   "mimetype": "text/x-python",
   "name": "python",
   "nbconvert_exporter": "python",
   "pygments_lexer": "ipython3",
   "version": "3.5.2"
  }
 },
 "nbformat": 4,
 "nbformat_minor": 2
}
